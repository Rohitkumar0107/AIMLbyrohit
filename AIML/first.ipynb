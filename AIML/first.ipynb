{
 "cells": [
  {
   "cell_type": "code",
   "execution_count": 1,
   "metadata": {},
   "outputs": [
    {
     "name": "stdout",
     "output_type": "stream",
     "text": [
      "hello Sir !\n"
     ]
    }
   ],
   "source": [
    "print(\"hello Sir !\")"
   ]
  },
  {
   "cell_type": "code",
   "execution_count": 2,
   "metadata": {},
   "outputs": [
    {
     "name": "stdout",
     "output_type": "stream",
     "text": [
      "x is zero\n"
     ]
    }
   ],
   "source": [
    "x=0\n",
    "if x==0 :\n",
    "    print(\"x is zero\")"
   ]
  },
  {
   "cell_type": "code",
   "execution_count": 4,
   "metadata": {},
   "outputs": [
    {
     "name": "stdout",
     "output_type": "stream",
     "text": [
      "69\n"
     ]
    }
   ],
   "source": [
    "mynumber = 69\n",
    "print(mynumber)"
   ]
  },
  {
   "cell_type": "code",
   "execution_count": 7,
   "metadata": {},
   "outputs": [
    {
     "name": "stdout",
     "output_type": "stream",
     "text": [
      "7.0\n",
      "7.0\n"
     ]
    }
   ],
   "source": [
    "myfloat=7.0\n",
    "print(myfloat)\n",
    "myfloat = float(7)\n",
    "print(myfloat)"
   ]
  },
  {
   "cell_type": "code",
   "execution_count": 10,
   "metadata": {},
   "outputs": [
    {
     "name": "stdout",
     "output_type": "stream",
     "text": [
      "Rohit\n",
      "ROHIT\n",
      "Don't worry about apostrophes\n"
     ]
    }
   ],
   "source": [
    "mystring='Rohit'\n",
    "print(mystring)\n",
    "mystring=\"ROHIT\"\n",
    "print(mystring)\n",
    "mystring = \"Don't worry about apostrophes\"\n",
    "print(mystring)"
   ]
  },
  {
   "cell_type": "code",
   "execution_count": 14,
   "metadata": {},
   "outputs": [
    {
     "name": "stdout",
     "output_type": "stream",
     "text": [
      "3\n",
      "Rohit Yadav\n"
     ]
    }
   ],
   "source": [
    "one =1\n",
    "two =2 \n",
    "three=one +two\n",
    "print(three)\n",
    "first_name=\"Rohit\"\n",
    "last_name=\"Yadav\" \n",
    "full_name=first_name+\" \"+last_name\n",
    "print(full_name)"
   ]
  },
  {
   "cell_type": "code",
   "execution_count": 23,
   "metadata": {},
   "outputs": [
    {
     "name": "stdout",
     "output_type": "stream",
     "text": [
      "1.5\n"
     ]
    }
   ],
   "source": [
    "a = int(input(\"num1\"))\n",
    "b = int(input(\"num2\"))\n",
    "c=a/b\n",
    "print(c)"
   ]
  },
  {
   "cell_type": "code",
   "execution_count": 27,
   "metadata": {},
   "outputs": [
    {
     "name": "stdout",
     "output_type": "stream",
     "text": [
      "kela\n",
      "aam\n",
      "chiku\n",
      "kela\n",
      "aam\n",
      "chiku\n",
      "['kela', 'aam', 'chiku']\n"
     ]
    }
   ],
   "source": [
    "mylist=[]\n",
    "mylist.append('kela')\n",
    "mylist.append('aam')\n",
    "mylist.append('chiku')\n",
    "\n",
    "print(mylist[0])\n",
    "print(mylist[1])\n",
    "print(mylist[2])\n",
    "\n",
    "for x in mylist:\n",
    "    print(x)\n",
    "\n",
    "print(mylist)\n",
    "\n"
   ]
  },
  {
   "cell_type": "code",
   "execution_count": 36,
   "metadata": {},
   "outputs": [
    {
     "name": "stdout",
     "output_type": "stream",
     "text": [
      "['rohit 1', 'rohit 2', 'sumit']\n",
      "second name of list is rohit 2\n",
      "second name of list is %s rohit 2\n",
      "second name of list is rohit 2 kumar\n"
     ]
    }
   ],
   "source": [
    "dost =[]\n",
    "dost.append('rohit 1')\n",
    "dost.append('rohit 2')\n",
    "dost.append('sumit')\n",
    "\n",
    "print(dost)\n",
    "\n",
    "print(\"second name of list is %s\" %dost[1])\n",
    "print(\"second name of list is %s\" ,dost[1]) # %S will print and dost[1] also print\n",
    "print(\"second name of list is \" + dost[1] + \" kumar\")\n"
   ]
  },
  {
   "attachments": {},
   "cell_type": "markdown",
   "metadata": {},
   "source": [
    "list complete"
   ]
  },
  {
   "attachments": {},
   "cell_type": "markdown",
   "metadata": {},
   "source": [
    "OPERATOR  START"
   ]
  },
  {
   "cell_type": "code",
   "execution_count": 39,
   "metadata": {},
   "outputs": [
    {
     "name": "stdout",
     "output_type": "stream",
     "text": [
      "69.0\n",
      "1\n",
      "4\n",
      "8\n"
     ]
    }
   ],
   "source": [
    "fav_number=65+8/2\n",
    "print(fav_number)\n",
    "#reminder\n",
    "reminder=10%3\n",
    "print(reminder)\n",
    "#cube and square\n",
    "square=2**2\n",
    "cube=2**3\n",
    "print(square)\n",
    "print(cube)"
   ]
  },
  {
   "cell_type": "code",
   "execution_count": 45,
   "metadata": {},
   "outputs": [
    {
     "name": "stdout",
     "output_type": "stream",
     "text": [
      "hello  rohit\n",
      " hello  hello  hello  hello  hello  hello  hello  hello  hello  hello \n",
      "[2, 4, 6, 8, 1, 3, 5, 7, 9]\n"
     ]
    }
   ],
   "source": [
    "# add string \n",
    "hellosir='hello '+' rohit'\n",
    "print(hellosir)\n",
    "# 10 hellos \n",
    "hello=' hello '*10\n",
    "print(hello )\n",
    "even_number=[2,4,6,8]\n",
    "odd_number=[1,3,5,7,9]\n",
    "all_number = even_number+odd_number\n",
    "print(all_number)"
   ]
  },
  {
   "cell_type": "code",
   "execution_count": 4,
   "metadata": {},
   "outputs": [
    {
     "name": "stdout",
     "output_type": "stream",
     "text": [
      "hello Rohit \n"
     ]
    }
   ],
   "source": [
    "name = \"Rohit\"\n",
    "print(\"hello %s \" %name)"
   ]
  },
  {
   "cell_type": "code",
   "execution_count": 10,
   "metadata": {},
   "outputs": [
    {
     "name": "stdout",
     "output_type": "stream",
     "text": [
      "hello rohit kumar . your current balance is $1000000. \n"
     ]
    }
   ],
   "source": [
    "data=(\"rohit\",\"kumar\", 1000000)\n",
    "format_string= \"hello %s %s . your current balance is $%s. \"\n",
    "print(format_string %data)"
   ]
  },
  {
   "cell_type": "code",
   "execution_count": 14,
   "metadata": {},
   "outputs": [
    {
     "name": "stdout",
     "output_type": "stream",
     "text": [
      "1\n",
      "2\n",
      "3\n",
      "4\n",
      "5\n"
     ]
    }
   ],
   "source": [
    "number=[1,2,3,4,5]\n",
    "for x in number:\n",
    "    print(x)\n"
   ]
  }
 ],
 "metadata": {
  "kernelspec": {
   "display_name": "Python 3",
   "language": "python",
   "name": "python3"
  },
  "language_info": {
   "codemirror_mode": {
    "name": "ipython",
    "version": 3
   },
   "file_extension": ".py",
   "mimetype": "text/x-python",
   "name": "python",
   "nbconvert_exporter": "python",
   "pygments_lexer": "ipython3",
   "version": "3.11.2"
  },
  "orig_nbformat": 4
 },
 "nbformat": 4,
 "nbformat_minor": 2
}
